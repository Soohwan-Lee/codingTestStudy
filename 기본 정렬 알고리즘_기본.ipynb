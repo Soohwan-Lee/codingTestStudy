{
 "cells": [
  {
   "cell_type": "markdown",
   "metadata": {},
   "source": [
    "# BAEKJOON - 나이순 정렬 10814번 문제"
   ]
  },
  {
   "cell_type": "code",
   "execution_count": 6,
   "metadata": {},
   "outputs": [
    {
     "name": "stdout",
     "output_type": "stream",
     "text": [
      "3\n",
      "21 Junkyu\n",
      "21 Dohyun\n",
      "20 Sunyoung\n"
     ]
    }
   ],
   "source": [
    "n = int(input())\n",
    "memberList = []\n",
    "\n",
    "for i in range(n):\n",
    "    member = input()\n",
    "    memberList.append(member)"
   ]
  },
  {
   "cell_type": "code",
   "execution_count": 11,
   "metadata": {},
   "outputs": [
    {
     "name": "stdout",
     "output_type": "stream",
     "text": [
      "['21', '21', '20']\n"
     ]
    }
   ],
   "source": [
    "memberAge = []\n",
    "for i in range(n):\n",
    "    memberAge.append(memberList[i].split()[0])\n",
    "print(memberAge)"
   ]
  },
  {
   "cell_type": "code",
   "execution_count": 14,
   "metadata": {},
   "outputs": [],
   "source": [
    "# bubble sort\n",
    "for index in range(n - 1):\n",
    "    swap = False\n",
    "    for index2 in range (n - index - 1):\n",
    "        if memberAge[index2] > memberAge[index2 + 1]:\n",
    "            memberAge[index2], memberAge[index2 + 1] = memberAge[index2 + 1], memberAge[index2]\n",
    "            memberList[index2], memberList[index2 + 1] = memberList[index2 + 1], memberList[index2]\n",
    "            swap = True\n",
    "\n",
    "    if swap == False:\n",
    "        break"
   ]
  },
  {
   "cell_type": "code",
   "execution_count": 15,
   "metadata": {},
   "outputs": [
    {
     "name": "stdout",
     "output_type": "stream",
     "text": [
      "20 Sunyoung\n",
      "21 Junkyu\n",
      "21 Dohyun\n"
     ]
    }
   ],
   "source": [
    "for i in range(n):\n",
    "    print(memberList[i])"
   ]
  },
  {
   "cell_type": "markdown",
   "metadata": {},
   "source": [
    "# BAEKJOON - 좌표 정렬하기 11650문제"
   ]
  },
  {
   "cell_type": "code",
   "execution_count": 110,
   "metadata": {},
   "outputs": [
    {
     "name": "stdout",
     "output_type": "stream",
     "text": [
      "5\n",
      "3 4\n",
      "1 1\n",
      "1 -1\n",
      "2 2\n",
      "3 3\n"
     ]
    }
   ],
   "source": [
    "n = int(input())\n",
    "\n",
    "coordinateList = []\n",
    "\n",
    "for i in range(n):\n",
    "    coordinate = input()\n",
    "    coordinateList.append(coordinate)"
   ]
  },
  {
   "cell_type": "code",
   "execution_count": 111,
   "metadata": {},
   "outputs": [],
   "source": [
    "x = []\n",
    "y = []\n",
    "for i in range(n):\n",
    "    x.append(coordinateList[i].split()[0])\n",
    "    y.append(coordinateList[i].split()[1])"
   ]
  },
  {
   "cell_type": "code",
   "execution_count": 112,
   "metadata": {},
   "outputs": [],
   "source": [
    "# bubble sort - x 오름차순\n",
    "for index in range(n - 1):\n",
    "    swap = False\n",
    "    for index2 in range (n - index - 1):\n",
    "        if x[index2] > x[index2 + 1]:\n",
    "            x[index2], x[index2 + 1] = x[index2 + 1], x[index2]\n",
    "            y[index2], y[index2 + 1] = y[index2 + 1], y[index2]\n",
    "            coordinateList[index2], coordinateList[index2 + 1] = coordinateList[index2 + 1], coordinateList[index2]\n",
    "            swap = True\n",
    "\n",
    "    if swap == False:\n",
    "        break"
   ]
  },
  {
   "cell_type": "code",
   "execution_count": 113,
   "metadata": {},
   "outputs": [
    {
     "name": "stdout",
     "output_type": "stream",
     "text": [
      "['1 1', '1 -1', '2 2', '3 4', '3 3']\n"
     ]
    }
   ],
   "source": [
    "print(coordinateList)"
   ]
  },
  {
   "cell_type": "code",
   "execution_count": 114,
   "metadata": {},
   "outputs": [
    {
     "name": "stdout",
     "output_type": "stream",
     "text": [
      "[[0, 1], [3, 4]]\n"
     ]
    }
   ],
   "source": [
    "# x 중복 구간 확인\n",
    "checkList = []\n",
    "temp = []\n",
    "\n",
    "for i in range(n-1):\n",
    "    if x[i] == x[i+1]:\n",
    "        temp.append(i)\n",
    "        temp.append(i+1)\n",
    "    elif x[i] != x[i+1]:\n",
    "        if temp:\n",
    "            checkList.append(temp)\n",
    "        temp = []\n",
    "    \n",
    "    # last case\n",
    "    if i == n-2:\n",
    "        checkList.append(temp)\n",
    "\n",
    "print(checkList)"
   ]
  },
  {
   "cell_type": "code",
   "execution_count": 139,
   "metadata": {},
   "outputs": [
    {
     "name": "stdout",
     "output_type": "stream",
     "text": [
      "============\n",
      "n is 2\n",
      "first loop\n",
      "index is 0\n",
      "second loop\n",
      "second index is 0\n",
      "============\n",
      "n is 5\n",
      "first loop\n",
      "index is 3\n",
      "second loop\n",
      "second index is 3\n"
     ]
    }
   ],
   "source": [
    "# bubble sort - y 오름차순\n",
    "\n",
    "for i in range(len(checkList)):\n",
    "    n = checkList[i][1] + 1\n",
    "    print('============')\n",
    "    print('n is ' + str(n))\n",
    "    temp = 0\n",
    "    for index in range(checkList[i][0], n - 1):\n",
    "        print('first loop')\n",
    "        print('index is ' + str(index))\n",
    "        swap = False\n",
    "        for index2 in range (checkList[i][0], n - temp - 1):\n",
    "            print('second loop')\n",
    "            print('second index is ' + str(index2))\n",
    "            if y[index2] > y[index2 + 1]:\n",
    "                y[index2], y[index2 + 1] = y[index2 + 1], y[index2]\n",
    "                coordinateList[index2], coordinateList[index2 + 1] = coordinateList[index2 + 1], coordinateList[index2]\n",
    "                swap = True\n",
    "        temp += 1\n",
    "\n",
    "        if swap == False:\n",
    "            break"
   ]
  },
  {
   "cell_type": "code",
   "execution_count": 141,
   "metadata": {},
   "outputs": [
    {
     "name": "stdout",
     "output_type": "stream",
     "text": [
      "1 -1\n",
      "1 1\n",
      "2 2\n",
      "3 3\n",
      "3 4\n"
     ]
    }
   ],
   "source": [
    "for i in range(n):\n",
    "    print(coordinateList[i])"
   ]
  },
  {
   "cell_type": "markdown",
   "metadata": {},
   "source": [
    "# BAEKJOON -  수 정렬하기3 10989번 문제"
   ]
  },
  {
   "cell_type": "code",
   "execution_count": 65,
   "metadata": {},
   "outputs": [],
   "source": [
    "### Bubble Sort Function\n",
    "\n",
    "def bubblesort(data):\n",
    "    for index in range(len(data) - 1):\n",
    "        swap = False\n",
    "        for index2 in range (len(data) - index - 1):\n",
    "            if data[index2] > data[index2 + 1]:\n",
    "                data[index2], data[index2 + 1] = data[index2 + 1], data[index2]\n",
    "                swap = True\n",
    "\n",
    "        if swap == False:\n",
    "            break\n",
    "    return data"
   ]
  },
  {
   "cell_type": "code",
   "execution_count": 66,
   "metadata": {},
   "outputs": [
    {
     "name": "stdout",
     "output_type": "stream",
     "text": [
      "10\n"
     ]
    }
   ],
   "source": [
    "n = int(input())"
   ]
  },
  {
   "cell_type": "code",
   "execution_count": 68,
   "metadata": {},
   "outputs": [
    {
     "name": "stdout",
     "output_type": "stream",
     "text": [
      "[68, 59, 82, 61, 7, 69, 92, 12, 5, 21]\n",
      "[5, 7, 12, 21, 59, 61, 68, 69, 82, 92]\n"
     ]
    }
   ],
   "source": [
    "### Bubble Sort Function Check\n",
    "\n",
    "import random\n",
    "\n",
    "data_list = random.sample(range(100), n)\n",
    "print(data_list)\n",
    "print(bubblesort(data_list))"
   ]
  }
 ],
 "metadata": {
  "kernelspec": {
   "display_name": "Python 3",
   "language": "python",
   "name": "python3"
  },
  "language_info": {
   "codemirror_mode": {
    "name": "ipython",
    "version": 3
   },
   "file_extension": ".py",
   "mimetype": "text/x-python",
   "name": "python",
   "nbconvert_exporter": "python",
   "pygments_lexer": "ipython3",
   "version": "3.7.9"
  }
 },
 "nbformat": 4,
 "nbformat_minor": 4
}
