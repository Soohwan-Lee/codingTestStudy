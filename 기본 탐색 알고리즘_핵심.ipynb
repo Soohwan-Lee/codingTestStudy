{
 "cells": [
  {
   "cell_type": "markdown",
   "id": "9193b72b",
   "metadata": {},
   "source": [
    "# BAEKJOON 2110번 문제 - 공유기 설치"
   ]
  },
  {
   "cell_type": "code",
   "execution_count": 1,
   "id": "e26ad902",
   "metadata": {},
   "outputs": [
    {
     "name": "stdout",
     "output_type": "stream",
     "text": [
      "5 3\n"
     ]
    }
   ],
   "source": [
    "n, c = map(int, input().split())"
   ]
  },
  {
   "cell_type": "code",
   "execution_count": 2,
   "id": "56467797",
   "metadata": {},
   "outputs": [
    {
     "name": "stdout",
     "output_type": "stream",
     "text": [
      "1\n",
      "2\n",
      "8\n",
      "4\n",
      "9\n"
     ]
    }
   ],
   "source": [
    "house = []\n",
    "for i in range(n):\n",
    "    temp = int(input())\n",
    "    house.append(temp)"
   ]
  },
  {
   "cell_type": "code",
   "execution_count": 8,
   "id": "cce82b8a",
   "metadata": {},
   "outputs": [],
   "source": [
    "routerPosition = []\n",
    "routerPosition.append(min(house))\n",
    "routerPosition.append(max(house))\n",
    "c = c-2"
   ]
  },
  {
   "cell_type": "code",
   "execution_count": 7,
   "id": "0344b804",
   "metadata": {},
   "outputs": [
    {
     "data": {
      "text/plain": [
       "[1, 9]"
      ]
     },
     "execution_count": 7,
     "metadata": {},
     "output_type": "execute_result"
    }
   ],
   "source": [
    "routerPosition"
   ]
  },
  {
   "cell_type": "code",
   "execution_count": 16,
   "id": "42c48fa9",
   "metadata": {},
   "outputs": [
    {
     "data": {
      "text/plain": [
       "5"
      ]
     },
     "execution_count": 16,
     "metadata": {},
     "output_type": "execute_result"
    }
   ],
   "source": [
    "routerExpDist = (min(house) + max(house)) / (c + 1)\n",
    "int(routerExpDist)"
   ]
  },
  {
   "cell_type": "code",
   "execution_count": 13,
   "id": "6ef51888",
   "metadata": {},
   "outputs": [
    {
     "data": {
      "text/plain": [
       "[2, 4, 8]"
      ]
     },
     "execution_count": 13,
     "metadata": {},
     "output_type": "execute_result"
    }
   ],
   "source": [
    "routerExpPos = []\n",
    "tempRouterPos = min\n",
    "for i in range(c):\n",
    "    routerExpPos.append()"
   ]
  },
  {
   "cell_type": "code",
   "execution_count": 17,
   "id": "baa07fd8",
   "metadata": {},
   "outputs": [
    {
     "data": {
      "text/plain": [
       "[2, 4, 8, 1, 9]"
      ]
     },
     "execution_count": 17,
     "metadata": {},
     "output_type": "execute_result"
    }
   ],
   "source": [
    "house"
   ]
  },
  {
   "cell_type": "code",
   "execution_count": null,
   "id": "9260139e",
   "metadata": {},
   "outputs": [],
   "source": []
  },
  {
   "cell_type": "code",
   "execution_count": null,
   "id": "c2c70089",
   "metadata": {},
   "outputs": [],
   "source": []
  },
  {
   "cell_type": "markdown",
   "id": "5fae43bc",
   "metadata": {},
   "source": [
    "# BAEKJOON 1939번 문제 - 중량제한"
   ]
  },
  {
   "cell_type": "code",
   "execution_count": null,
   "id": "207312a9",
   "metadata": {},
   "outputs": [],
   "source": []
  }
 ],
 "metadata": {
  "kernelspec": {
   "display_name": "Python 3",
   "language": "python",
   "name": "python3"
  },
  "language_info": {
   "codemirror_mode": {
    "name": "ipython",
    "version": 3
   },
   "file_extension": ".py",
   "mimetype": "text/x-python",
   "name": "python",
   "nbconvert_exporter": "python",
   "pygments_lexer": "ipython3",
   "version": "3.7.9"
  }
 },
 "nbformat": 4,
 "nbformat_minor": 5
}
