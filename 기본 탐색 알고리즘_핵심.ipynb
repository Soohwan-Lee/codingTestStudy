{
 "cells": [
  {
   "cell_type": "markdown",
   "metadata": {},
   "source": [
    "# BAEKJOON 2110번 문제 - 공유기 설치"
   ]
  },
  {
   "cell_type": "code",
   "execution_count": 1,
   "metadata": {},
   "outputs": [
    {
     "name": "stdout",
     "output_type": "stream",
     "text": [
      "5 3\n"
     ]
    }
   ],
   "source": [
    "n, c = map(int, input().split())"
   ]
  },
  {
   "cell_type": "code",
   "execution_count": 2,
   "metadata": {},
   "outputs": [
    {
     "name": "stdout",
     "output_type": "stream",
     "text": [
      "1\n",
      "2\n",
      "8\n",
      "4\n",
      "9\n"
     ]
    }
   ],
   "source": [
    "house = []\n",
    "for i in range(n):\n",
    "    temp = int(input())\n",
    "    house.append(temp)"
   ]
  },
  {
   "cell_type": "code",
   "execution_count": 3,
   "metadata": {},
   "outputs": [],
   "source": [
    "house.sort()"
   ]
  },
  {
   "cell_type": "code",
   "execution_count": 7,
   "metadata": {},
   "outputs": [],
   "source": [
    "def binary_search(array, startDist, endDist):\n",
    "    while startDist <= endDist:\n",
    "        mid = (startDist + endDist) // 2\n",
    "        current = array[0]\n",
    "        count = 1\n",
    "\n",
    "        for i in range(1, len(array)):\n",
    "            if array[i] >= current + mid:\n",
    "                count += 1\n",
    "                current = array[i]\n",
    "\n",
    "        if count >= c:\n",
    "            global answer\n",
    "            startDist = mid + 1\n",
    "            answer = mid\n",
    "        else:\n",
    "            endDist = mid - 1"
   ]
  },
  {
   "cell_type": "code",
   "execution_count": 8,
   "metadata": {},
   "outputs": [
    {
     "name": "stdout",
     "output_type": "stream",
     "text": [
      "3\n"
     ]
    }
   ],
   "source": [
    "startDist = 1\n",
    "endDist = house[-1] - house[0]\n",
    "answer = 0\n",
    "binary_search(house, startDist, endDist)\n",
    "print(answer)"
   ]
  },
  {
   "cell_type": "code",
   "execution_count": 8,
   "metadata": {},
   "outputs": [],
   "source": [
    "# routerPosition = []\n",
    "# routerPosition.append(min(house))\n",
    "# routerPosition.append(max(house))\n",
    "# c = c-2"
   ]
  },
  {
   "cell_type": "code",
   "execution_count": 7,
   "metadata": {},
   "outputs": [
    {
     "data": {
      "text/plain": [
       "[1, 9]"
      ]
     },
     "execution_count": 7,
     "metadata": {},
     "output_type": "execute_result"
    }
   ],
   "source": [
    "# routerPosition"
   ]
  },
  {
   "cell_type": "code",
   "execution_count": 16,
   "metadata": {},
   "outputs": [
    {
     "data": {
      "text/plain": [
       "5"
      ]
     },
     "execution_count": 16,
     "metadata": {},
     "output_type": "execute_result"
    }
   ],
   "source": [
    "# routerExpDist = (min(house) + max(house)) / (c + 1)\n",
    "# int(routerExpDist)"
   ]
  },
  {
   "cell_type": "code",
   "execution_count": 13,
   "metadata": {},
   "outputs": [
    {
     "data": {
      "text/plain": [
       "[2, 4, 8]"
      ]
     },
     "execution_count": 13,
     "metadata": {},
     "output_type": "execute_result"
    }
   ],
   "source": [
    "# routerExpPos = []\n",
    "# tempRouterPos = min\n",
    "# for i in range(c):\n",
    "#     routerExpPos.append()"
   ]
  },
  {
   "cell_type": "markdown",
   "metadata": {},
   "source": [
    "# BAEKJOON 1939번 문제 - 중량제한"
   ]
  },
  {
   "cell_type": "code",
   "execution_count": 7,
   "metadata": {},
   "outputs": [],
   "source": [
    "## 클래스와 함수 선언 부분 ##\n",
    "class Graph() :\n",
    "    def __init__ (self, size) :\n",
    "        self.SIZE = size\n",
    "        self.graph = [[0 for _ in range(size)] for _ in range(size)]\n",
    "\n",
    "def printGraph(g) :\n",
    "    print(' ', end = ' ')\n",
    "    for v in range(g.SIZE) :\n",
    "        print(nameAry[v], end = ' ')\n",
    "    print()\n",
    "    for row in range(g.SIZE) :\n",
    "        print(nameAry[row], end = ' ')\n",
    "        for col in range(g.SIZE) :\n",
    "            print(g.graph[row][col], end = ' ')\n",
    "        print()\n",
    "    print()\n",
    "\n",
    "def findVertex(g, findVtx) : # 정점이 그래프에 연결되어 있는지 확인하는 함수\n",
    "    stack = []\n",
    "    visitedAry = [] # 방문한 정점\n",
    "\n",
    "    current = 0 # 시작 정점\n",
    "    stack.append(current)\n",
    "    visitedAry.append(current)\n",
    "\n",
    "    while (len(stack) != 0) :\n",
    "        next = None\n",
    "        for vertex in range(gSize) :\n",
    "            if g.graph[current][vertex] != 0 :\n",
    "                if vertex in visitedAry : # 방문한 적이 있는 정점이면 탈락\n",
    "                    pass\n",
    "                else : # 방문한 적이 없으면 다음 정점으로 지정\n",
    "                    next = vertex\n",
    "                    break\n",
    "        \n",
    "        if next != None : # 다음에 방문할 정점이 있는 경우\n",
    "             current = next\n",
    "             stack.append(current)\n",
    "             visitedAry.append(current)\n",
    "        else : # 다음에 방문할 정점이 없는 경우\n",
    "            current = stack.pop()\n",
    "\n",
    "    if findVtx in visitedAry :\n",
    "        return True\n",
    "    else :\n",
    "        return False"
   ]
  },
  {
   "cell_type": "code",
   "execution_count": 2,
   "metadata": {},
   "outputs": [
    {
     "name": "stdout",
     "output_type": "stream",
     "text": [
      "3 3\n"
     ]
    }
   ],
   "source": [
    "n, m = map(int, input().split())"
   ]
  },
  {
   "cell_type": "code",
   "execution_count": 25,
   "metadata": {},
   "outputs": [],
   "source": [
    "G1 = None\n",
    "nameAry = []\n",
    "for _ in range(n):\n",
    "    nameAry.append(_)"
   ]
  },
  {
   "cell_type": "code",
   "execution_count": 26,
   "metadata": {},
   "outputs": [],
   "source": [
    "gSize = n\n",
    "G1 = Graph(gSize)"
   ]
  },
  {
   "cell_type": "code",
   "execution_count": 27,
   "metadata": {},
   "outputs": [],
   "source": [
    "G1.graph[0][1] = 2\n",
    "G1.graph[2][0] = 3\n",
    "G1.graph[1][2] = 2"
   ]
  },
  {
   "cell_type": "code",
   "execution_count": 5,
   "metadata": {},
   "outputs": [
    {
     "name": "stdout",
     "output_type": "stream",
     "text": [
      "1 3\n"
     ]
    }
   ],
   "source": [
    "start, end = map(int, input().split())"
   ]
  },
  {
   "cell_type": "code",
   "execution_count": 28,
   "metadata": {},
   "outputs": [
    {
     "name": "stdout",
     "output_type": "stream",
     "text": [
      "  0 1 2 \n",
      "0 0 2 0 \n",
      "1 0 0 2 \n",
      "2 3 0 0 \n",
      "\n"
     ]
    }
   ],
   "source": [
    "printGraph(G1)"
   ]
  },
  {
   "cell_type": "code",
   "execution_count": 31,
   "metadata": {},
   "outputs": [],
   "source": [
    "matrix = [[0 for col in range(n)] for row in range(n)]"
   ]
  },
  {
   "cell_type": "code",
   "execution_count": 33,
   "metadata": {},
   "outputs": [],
   "source": [
    "matrix[0][1] = 2\n",
    "matrix[1][0] = 2\n",
    "matrix[0][2] = 3\n",
    "matrix[2][0] = 3\n",
    "matrix[1][2] = 2\n",
    "matrix[2][1] = 2"
   ]
  },
  {
   "cell_type": "code",
   "execution_count": 34,
   "metadata": {},
   "outputs": [
    {
     "data": {
      "text/plain": [
       "[[0, 2, 3], [2, 0, 2], [3, 2, 0]]"
      ]
     },
     "execution_count": 34,
     "metadata": {},
     "output_type": "execute_result"
    }
   ],
   "source": [
    "matrix"
   ]
  },
  {
   "cell_type": "code",
   "execution_count": 37,
   "metadata": {},
   "outputs": [],
   "source": [
    "graph={\n",
    "1:[2,3],\n",
    "2:[1,3],\n",
    "3:[1,2],\n",
    "}"
   ]
  },
  {
   "cell_type": "code",
   "execution_count": 38,
   "metadata": {},
   "outputs": [
    {
     "name": "stdout",
     "output_type": "stream",
     "text": [
      "[1, 2, 3]\n"
     ]
    }
   ],
   "source": [
    "def BFS(graph,root):\n",
    "    visited=[]\n",
    "    queue=[root]\n",
    "    while queue:#while queue is not empty\n",
    "        n = queue.pop(0)\n",
    "        if n not in visited:#if n is not in visited list.\n",
    "            visited.append(n)#put the n to the visited list.\n",
    "        for i in graph[n]:#the numbers i connected with n\n",
    "            if i not in visited:#i is not in visited list.\n",
    "                queue.append(i)#put the i to the queue.\n",
    "    return visited\n",
    "\n",
    "print(BFS(graph,1))"
   ]
  },
  {
   "cell_type": "code",
   "execution_count": 39,
   "metadata": {
    "scrolled": true
   },
   "outputs": [
    {
     "name": "stdout",
     "output_type": "stream",
     "text": [
      "3 3\n",
      "1 2 3\n"
     ]
    },
    {
     "ename": "ValueError",
     "evalue": "invalid literal for int() with base 10: '1 2 3'",
     "output_type": "error",
     "traceback": [
      "\u001b[1;31m---------------------------------------------------------------------------\u001b[0m",
      "\u001b[1;31mValueError\u001b[0m                                Traceback (most recent call last)",
      "\u001b[1;32m<ipython-input-39-c72a2df0464f>\u001b[0m in \u001b[0;36m<module>\u001b[1;34m\u001b[0m\n\u001b[0;32m      7\u001b[0m \u001b[0mgraph\u001b[0m \u001b[1;33m=\u001b[0m \u001b[1;33m[\u001b[0m\u001b[1;33m[\u001b[0m\u001b[1;33m]\u001b[0m \u001b[1;32mfor\u001b[0m \u001b[0m_\u001b[0m \u001b[1;32min\u001b[0m \u001b[0mrange\u001b[0m\u001b[1;33m(\u001b[0m\u001b[0mnodeCost\u001b[0m\u001b[1;33m+\u001b[0m\u001b[1;36m1\u001b[0m\u001b[1;33m)\u001b[0m\u001b[1;33m]\u001b[0m \u001b[1;31m# 그래프에 정보를 기록할 리스트\u001b[0m\u001b[1;33m\u001b[0m\u001b[1;33m\u001b[0m\u001b[0m\n\u001b[0;32m      8\u001b[0m \u001b[1;33m\u001b[0m\u001b[0m\n\u001b[1;32m----> 9\u001b[1;33m \u001b[0mk\u001b[0m \u001b[1;33m=\u001b[0m \u001b[0mint\u001b[0m\u001b[1;33m(\u001b[0m\u001b[0minput\u001b[0m\u001b[1;33m(\u001b[0m\u001b[1;33m)\u001b[0m\u001b[1;33m)\u001b[0m \u001b[1;31m# 시작점을 입력 받는 부분 -> 다익스트라 알고리즘은 시작점 설정이 필수적\u001b[0m\u001b[1;33m\u001b[0m\u001b[1;33m\u001b[0m\u001b[0m\n\u001b[0m\u001b[0;32m     10\u001b[0m \u001b[1;33m\u001b[0m\u001b[0m\n\u001b[0;32m     11\u001b[0m \u001b[0msave\u001b[0m \u001b[1;33m=\u001b[0m \u001b[1;33m[\u001b[0m\u001b[1;33m]\u001b[0m \u001b[1;31m# 각 상황에서 다음 노드를 선택하기 위해 사용되는 우선순위 큐\u001b[0m\u001b[1;33m\u001b[0m\u001b[1;33m\u001b[0m\u001b[0m\n",
      "\u001b[1;31mValueError\u001b[0m: invalid literal for int() with base 10: '1 2 3'"
     ]
    }
   ],
   "source": [
    "import heapq # 시간 복잡도를 줄이기 위해서 우선순위 큐를 사용\n",
    "import sys\n",
    "INT_MAX = sys.maxsize\n",
    "\n",
    "nodeCost, lineCost = tuple(map(int,input().split())) # 노드와 간선의 개수를 입력 받는 부분\n",
    "\n",
    "graph = [[] for _ in range(nodeCost+1)] # 그래프에 정보를 기록할 리스트\n",
    "\n",
    "k = int(input()) # 시작점을 입력 받는 부분 -> 다익스트라 알고리즘은 시작점 설정이 필수적\n",
    "\n",
    "save = [] # 각 상황에서 다음 노드를 선택하기 위해 사용되는 우선순위 큐\n",
    "\n",
    "result = [INT_MAX for _ in range(nodeCost + 1)] # 시작점에서 각 노드까지의 최단 거리 값을 담을 리스트\n",
    "\n",
    "for _ in range(lineCost): # 간선에 대한 정보를 입력 받을 부분(리스트 활용)\n",
    "    start, end, value = tuple(map(int,input().split()))\n",
    "    graph[start].append((end, value))\n",
    "    graph[end].append((start,value)) # 양방향 이라면 추가해주어야하는 코드 -> 단방향이면 해당 부분 주석 처리\n",
    "\n",
    "heapq.heappush(save,(0,k)) # 시작 점의 값을 갱신\n",
    "result[k] = 0\n",
    "\n",
    "while save: # 최소값을 갱신해주는 과정은 우선순위 큐가 비었을 때, 중지\n",
    "    min_value, min_idx = heapq.heappop(save) # 현재 큐에서 가장 짧은 거리를 선택\n",
    "\n",
    "    # 해당 if 문 매우 중요@@@@@@!!!!!!!!!!!!!!!!!!!!!!!!!!!!!!!!!!!!!!!!\n",
    "    if min_value != result[min_idx]: # 결과 리스트에 값이 있단는 것은 이미 최단 경로가 갱신되었다는 의미\n",
    "        continue                     # 따라서 비교 후, 다르다면 넘겨주어야 함 -> 해당 코드가 없으면 시간 복잡도 증가\n",
    "    \n",
    "    for checkEnd, checkValue in graph[min_idx]: # 현재 점에서 갈 수 있는 도착점과 간선에 대한 정보를 뽑아내기\n",
    "        newValue = checkValue + result[min_idx] # 현재 점을 거쳐서 가는 도착점까지의 거리를 계산\n",
    "        if result[checkEnd] > newValue: # 기존의 최소값이 더 크다면,\n",
    "            result[checkEnd] = newValue # 최소값을 갱신\n",
    "            heapq.heappush(save,(newValue,checkEnd)) # 해당 변경상황을 큐에 저장\n",
    "\n",
    "print(result) # 구해진 최단 거리들을 출력(인덴스 0은 무시)"
   ]
  },
  {
   "cell_type": "code",
   "execution_count": 48,
   "metadata": {},
   "outputs": [
    {
     "name": "stdout",
     "output_type": "stream",
     "text": [
      "3 3\n",
      "1 2 2\n",
      "3 1 3\n",
      "2 3 2\n",
      "1 3\n",
      "3\n"
     ]
    }
   ],
   "source": [
    "# Answer\n",
    "import collections\n",
    "import math\n",
    "def bfs(start,endm):\n",
    "    visit=[start]\n",
    "    will_visit=collections.deque(graph[start])\n",
    "    while will_visit:\n",
    "        travel = will_visit.popleft()\n",
    "        if travel == end:\n",
    "            return True\n",
    "        if travel not in visit:\n",
    "            visit.append(travel)\n",
    "          \n",
    "            for i in graph[travel]:\n",
    "                will_visit.append(i)\n",
    "            #will_visit.extend(graph[travel])\n",
    "    return False\n",
    "\n",
    "N, M = map(int, input().split())\n",
    "#graph={}\n",
    "graph_cost=[]\n",
    "#for i in range(1, N+1):\n",
    "#   graph[i]=set()\n",
    "    \n",
    "for _ in range(M):\n",
    "    lis=list(map(int, input().split()))\n",
    "    #graph[lis[0]].append(lis[1])\n",
    "    #graph[lis[1]].append(lis[0])\n",
    "    graph_cost.append([lis[2], [lis[1], lis[0]]])\n",
    "graph_cost.sort()\n",
    "start, end = map(int, input().split())\n",
    "\n",
    "maxi= graph_cost[-1][0]\n",
    "mini = graph_cost[0][0]\n",
    "mid_list=[]\n",
    "answer=0\n",
    "#print(graph_cost)\n",
    "while maxi>=mini:\n",
    "   # print(answer)\n",
    "    mid = math.ceil((maxi+mini)/2)\n",
    "    #print(maxi, mini, mid)\n",
    "    if mid not in mid_list:\n",
    "        mid_list.append(mid)\n",
    "        filtered = list(filter(lambda a:a[0]>=mid, graph_cost))\n",
    "        graph={}\n",
    "        for i in range(1, N+1):\n",
    "            graph[i]=[]\n",
    "        for f in filtered:\n",
    "            graph[f[1][0]].append(int(f[1][1]))\n",
    "            graph[f[1][1]].append(int(f[1][0]))\n",
    "        #print('graph', graph)\n",
    "        if bfs(start, end):\n",
    "            answer=max(answer, mid)\n",
    "            mini = mid-1\n",
    "        else:\n",
    "            maxi=mid+1\n",
    "    else:\n",
    "        mini+=1\n",
    "    \n",
    "print(answer)"
   ]
  },
  {
   "cell_type": "code",
   "execution_count": null,
   "metadata": {},
   "outputs": [],
   "source": []
  }
 ],
 "metadata": {
  "kernelspec": {
   "display_name": "Python 3",
   "language": "python",
   "name": "python3"
  },
  "language_info": {
   "codemirror_mode": {
    "name": "ipython",
    "version": 3
   },
   "file_extension": ".py",
   "mimetype": "text/x-python",
   "name": "python",
   "nbconvert_exporter": "python",
   "pygments_lexer": "ipython3",
   "version": "3.7.9"
  }
 },
 "nbformat": 4,
 "nbformat_minor": 5
}
