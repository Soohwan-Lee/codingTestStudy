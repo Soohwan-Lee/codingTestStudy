{
 "cells": [
  {
   "cell_type": "markdown",
   "metadata": {},
   "source": [
    "# BAEKJOON - SHA-256 10930번 문제"
   ]
  },
  {
   "cell_type": "code",
   "execution_count": 4,
   "metadata": {},
   "outputs": [],
   "source": [
    "s = 'Baekjoon'"
   ]
  },
  {
   "cell_type": "code",
   "execution_count": 6,
   "metadata": {},
   "outputs": [
    {
     "name": "stdout",
     "output_type": "stream",
     "text": [
      "9944e1862efbb2a4e2486392dc6701896416b251eccdecb8332deb7f4cf2a857\n"
     ]
    }
   ],
   "source": [
    "import hashlib\n",
    "\n",
    "result = hashlib.sha256(s.encode())\n",
    "print(result.hexdigest())"
   ]
  },
  {
   "cell_type": "markdown",
   "metadata": {},
   "source": [
    "# BACKJOON - 수 찾기 1920번 문제"
   ]
  },
  {
   "cell_type": "code",
   "execution_count": 11,
   "metadata": {},
   "outputs": [
    {
     "name": "stdout",
     "output_type": "stream",
     "text": [
      "자연수들의 갯수를 입력하세요: 5\n",
      "자연수 리스트를 입력하세요: 4 1 5 2 3\n",
      "찾으시려는 자연수들의 갯수를 입력하세요: 5\n",
      "찾으시려는 자연수 리스트를 입력하세요: 1 3 7 9 5\n"
     ]
    }
   ],
   "source": [
    "n = input('자연수들의 갯수를 입력하세요: ')\n",
    "listN = list(map(int, input('자연수 리스트를 입력하세요: ').split()))\n",
    "\n",
    "m = input('찾으시려는 자연수들의 갯수를 입력하세요: ')\n",
    "listM = list(map(int, input('찾으시려는 자연수 리스트를 입력하세요: ').split()))"
   ]
  },
  {
   "cell_type": "code",
   "execution_count": 16,
   "metadata": {},
   "outputs": [
    {
     "name": "stdout",
     "output_type": "stream",
     "text": [
      "1\n",
      "1\n",
      "0\n",
      "0\n",
      "1\n"
     ]
    }
   ],
   "source": [
    "for i in range(0, len(listM)):\n",
    "    checker = 0\n",
    "    for j in range(0, len(listN)):\n",
    "        if listN[j] == listM[i]:\n",
    "            checker = 1\n",
    "            break\n",
    "        else:\n",
    "            checker = 0\n",
    "    print(checker)"
   ]
  },
  {
   "cell_type": "markdown",
   "metadata": {},
   "source": [
    "# BAEKJOON - 친구 네트워크 4195번 문제"
   ]
  },
  {
   "cell_type": "code",
   "execution_count": 40,
   "metadata": {},
   "outputs": [
    {
     "name": "stdout",
     "output_type": "stream",
     "text": [
      "2\n",
      "3\n",
      "Fred Barney\n",
      "2\n",
      "Barney Betty\n",
      "3\n",
      "Betty Wilma\n",
      "4\n",
      "3\n",
      "Fred Barney\n",
      "2\n",
      "Betty Wilma\n",
      "2\n",
      "Barney Betty\n",
      "4\n"
     ]
    }
   ],
   "source": [
    "def find(x):\n",
    "    if x == parent[x]:\n",
    "        return x\n",
    "    else:\n",
    "        p = find(parent[x])\n",
    "        parent[x] = p\n",
    "        return parent[x]\n",
    "\n",
    "def union(x,y):\n",
    "    x = find(x)\n",
    "    y = find(y)\n",
    "    \n",
    "    if x!=y:\n",
    "        parent[y] = x\n",
    "        number[x] += number[y]\n",
    "        \n",
    "test_case = int(input())\n",
    "\n",
    "for _ in range(test_case):\n",
    "    parent = dict()\n",
    "    number = dict()\n",
    "    \n",
    "    f = int(input())\n",
    "    \n",
    "    for _ in range(f):\n",
    "        x,y = input().split(' ')\n",
    "        \n",
    "        if x not in parent:\n",
    "            parent[x] = x\n",
    "            number[x] = 1\n",
    "        if y not in parent:\n",
    "            parent[y] = y\n",
    "            number[y] = 1\n",
    "            \n",
    "        union(x,y)\n",
    "        \n",
    "        print(number[find(x)])"
   ]
  },
  {
   "cell_type": "code",
   "execution_count": null,
   "metadata": {},
   "outputs": [],
   "source": [
    "case = input('테스트 케이스 개수를 입력하시오: ')\n",
    "\n",
    "for i in range(0, case):\n",
    "    f = input('친구 관계의 수를 입력하시오: ')\n",
    "    vert_lst = []\n",
    "    edge_lst = []\n",
    "    for j in range(0, f):\n",
    "        friendRelation = list(map(int, input('친구 관계들을 입력하시오: ').split()))\n",
    "        edge_list.append((friendRelation[0],friendRelation[1]))\n",
    "        "
   ]
  },
  {
   "cell_type": "code",
   "execution_count": 43,
   "metadata": {},
   "outputs": [
    {
     "name": "stdout",
     "output_type": "stream",
     "text": [
      "[[1], [0], [3], [2]]\n"
     ]
    }
   ],
   "source": [
    "vert_lst = ['0', '1', '2', '3']\n",
    "edge_lst = [(0, 1), (1, 0), (2, 1), (1, 2), (3, 2), (2, 3)]\n",
    "\n",
    "ver_lst = ['0', '1', '2', '3']\n",
    "edge_lst = [(0, 1), (1, 0),(3, 2), (2, 3)]\n",
    "\n",
    "adjac_lst = [[] for vert in vert_lst]\n",
    "\n",
    "for edge in edge_lst:\n",
    "    adjac_lst[edge[0]].append(edge[1])\n",
    "\n",
    "print(adjac_lst)\n",
    "\n",
    "def count(n):\n",
    "    for i in range(adjac_list(n))\n",
    "    if adjac_list(n[0]) == []:\n",
    "        print('j')\n",
    "    else:\n",
    "        으갸갸갸ㅑ갸갸갹"
   ]
  },
  {
   "cell_type": "code",
   "execution_count": 9,
   "metadata": {},
   "outputs": [],
   "source": [
    "# 양방향 링크드 리스트\n",
    "class Node:\n",
    "    def __init__(self, element):\n",
    "        self.element = element\n",
    "        self.next = None\n",
    "        self.previous = None\n",
    "\n",
    "\n",
    "class DoublyLinkedList:\n",
    "    def __init__(self):\n",
    "        self.head = Node('head')\n",
    "\n",
    "    def find(self, item):\n",
    "        cur_node = self.head\n",
    "        while cur_node.element != item:\n",
    "            cur_node = cur_node.next\n",
    "        return cur_node\n",
    "\n",
    "    def insert(self, item, new):\n",
    "        new_node = Node(new)\n",
    "        cur_node = self.find(item)\n",
    "        new_node.next = cur_node.next\n",
    "        cur_node.next = new_node\n",
    "        new_node.previous = cur_node\n",
    "\n",
    "    def show(self):\n",
    "        cur_node = self.head\n",
    "        while cur_node.next is not None:\n",
    "            print(cur_node.element, end=' -> ')\n",
    "            cur_node = cur_node.next\n",
    "        print(cur_node.element)\n",
    "\n",
    "    \"\"\" find_previous 는 사용할 필요가 없다. \"\"\"\n",
    "\n",
    "    def remove(self, item):\n",
    "        cur_node = self.find(item)\n",
    "\n",
    "        cur_node.previous.next = cur_node.next\n",
    "        cur_node.previous = None\n",
    "\n",
    "        if cur_node.next is not None:\n",
    "            cur_node.next.previous = cur_node.previous\n",
    "            cur_node.next = None\n",
    "\n",
    "    def find_last(self):\n",
    "        cur_node = self.head\n",
    "        while cur_node.next is not None:\n",
    "            cur_node = cur_node.next\n",
    "        return cur_node\n",
    "\n",
    "    def show_reverse(self):\n",
    "        cur_node = self.find_last()\n",
    "        while cur_node.previous is not None:\n",
    "            print(cur_node.element, end=' <- ')\n",
    "            cur_node = cur_node.previous\n",
    "        print(cur_node.element)"
   ]
  },
  {
   "cell_type": "code",
   "execution_count": 44,
   "metadata": {},
   "outputs": [],
   "source": [
    "class Node:\n",
    "    def __init__(self, data):\n",
    "        self.data = data\n",
    "        self.next = None"
   ]
  },
  {
   "cell_type": "code",
   "execution_count": null,
   "metadata": {},
   "outputs": [],
   "source": [
    "class LinkedList:\n",
    "    def __init__(self, data):\n",
    "        self.head = Node(data)\n",
    "    \n",
    "    #헤더부터 탐색해 뒤에 새로운 노드 추가하기\n",
    "    def append(self, data):\n",
    "        cur = self.head\n",
    "        while cur.next is not None:\n",
    "            cur = cur.next\n",
    "        cur.next = Node(data)\n",
    "\t\n",
    "    #모든 노드 값 출력\n",
    "    def print_all(self):\n",
    "        cur = self.head\n",
    "        while cur is not None:\n",
    "            print(cur.data)\n",
    "            cur = cur.next\n",
    "            \n",
    "    def get_node(self, index):\n",
    "        cnt = 0\n",
    "        node = self.head\n",
    "        while cnt < index:\n",
    "            cnt += 1\n",
    "            node = node.next\n",
    "        return node\n",
    "\n",
    "    def add_node(self, index, value):\n",
    "        new_node = Node(value)\n",
    "        if index == 0:\n",
    "            new_node.next = self.head\n",
    "            self.head = new_node\n",
    "            return\n",
    "        node = self.get_node(index-1)\n",
    "        next_node = node.next\n",
    "        node.next = new_node\n",
    "        new_node.next = next_node\n",
    "        \n",
    "    def delete_node(self, index):\n",
    "        if index == 0:\n",
    "            self.head = self.head.next\n",
    "            return\n",
    "        node = self.get_node(index-1)\n",
    "        node.next = node.next.next"
   ]
  }
 ],
 "metadata": {
  "kernelspec": {
   "display_name": "Python 3",
   "language": "python",
   "name": "python3"
  },
  "language_info": {
   "codemirror_mode": {
    "name": "ipython",
    "version": 3
   },
   "file_extension": ".py",
   "mimetype": "text/x-python",
   "name": "python",
   "nbconvert_exporter": "python",
   "pygments_lexer": "ipython3",
   "version": "3.7.9"
  }
 },
 "nbformat": 4,
 "nbformat_minor": 5
}
