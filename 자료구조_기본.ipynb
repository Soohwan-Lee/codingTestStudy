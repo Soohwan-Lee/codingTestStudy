{
 "cells": [
  {
   "cell_type": "markdown",
   "metadata": {},
   "source": [
    "# BAEKJOON - 스택 수열 1874번 문제"
   ]
  },
  {
   "cell_type": "code",
   "execution_count": 13,
   "metadata": {},
   "outputs": [
    {
     "name": "stdout",
     "output_type": "stream",
     "text": [
      "[4, 3, 6, 8, 7, 5, 2, 1]\n"
     ]
    }
   ],
   "source": [
    "workingData = [4,3,6,8,7,5,2,1]\n",
    "print(workingData)"
   ]
  },
  {
   "cell_type": "code",
   "execution_count": 14,
   "metadata": {},
   "outputs": [
    {
     "name": "stdout",
     "output_type": "stream",
     "text": [
      "[1, 2, 5, 3, 4]\n"
     ]
    }
   ],
   "source": [
    "nonWorkingData = [1,2,5,3,4]\n",
    "print(nonWorkingData)"
   ]
  },
  {
   "cell_type": "code",
   "execution_count": 15,
   "metadata": {},
   "outputs": [],
   "source": [
    "def stackFunction(data):\n",
    "    tempList = [1]\n",
    "    answerList = []\n",
    "    n = 1\n",
    "    answerList.append('+')\n",
    "#     print('+')\n",
    "\n",
    "    try:\n",
    "        while len(data) != 0:\n",
    "            if data[0] != tempList[-1]:\n",
    "                tempList.append(n+1)\n",
    "                n += 1\n",
    "                answerList.append('+')\n",
    "#                 print('+')\n",
    "            elif data[0] == tempList[-1]:\n",
    "                data.pop(0)\n",
    "                tempList.pop(-1)\n",
    "                answerList.append('-')\n",
    "#                 print('-')\n",
    "        print(answerList)\n",
    "    except:\n",
    "        print(\"NO\")"
   ]
  },
  {
   "cell_type": "code",
   "execution_count": 16,
   "metadata": {},
   "outputs": [
    {
     "name": "stdout",
     "output_type": "stream",
     "text": [
      "['+', '+', '+', '+', '-', '-', '+', '+', '-', '+', '+', '-', '-', '-', '-', '-']\n"
     ]
    }
   ],
   "source": [
    "stackFunction(workingData)"
   ]
  },
  {
   "cell_type": "code",
   "execution_count": 17,
   "metadata": {},
   "outputs": [
    {
     "name": "stdout",
     "output_type": "stream",
     "text": [
      "NO\n"
     ]
    }
   ],
   "source": [
    "stackFunction(nonWorkingData)"
   ]
  },
  {
   "cell_type": "markdown",
   "metadata": {},
   "source": [
    "# BAEKJOON - 프린터 큐 1966번 문제"
   ]
  },
  {
   "cell_type": "code",
   "execution_count": 21,
   "metadata": {},
   "outputs": [],
   "source": [
    "# exampleN = 6\n",
    "exampleM = 0\n",
    "examplePriority = [1,1,9,1,1,1]"
   ]
  },
  {
   "cell_type": "code",
   "execution_count": 20,
   "metadata": {},
   "outputs": [],
   "source": [
    "exampleM = 2\n",
    "examplePriority = [1,2,3,4]"
   ]
  },
  {
   "cell_type": "code",
   "execution_count": 190,
   "metadata": {},
   "outputs": [],
   "source": [
    "exampleM = 0\n",
    "examplePriority = [5]"
   ]
  },
  {
   "cell_type": "code",
   "execution_count": 191,
   "metadata": {},
   "outputs": [],
   "source": [
    "def queueFunction(m,priority):\n",
    "    count = 0\n",
    "    mChecker = True\n",
    "    \n",
    "    while mChecker or len(priority) > 0:\n",
    "#         print(priority)\n",
    "#         print(m)\n",
    "        if priority[0] >= max(priority):\n",
    "#             print('pop')\n",
    "            priority.pop(0)\n",
    "            count += 1\n",
    "            if m == 0:\n",
    "                mChecker = False\n",
    "                break\n",
    "            m -= 1\n",
    "            \n",
    "        elif priority[0] < max(priority):\n",
    "#             print('later')\n",
    "            tempVal = priority[0]\n",
    "            priority.pop(0)\n",
    "            priority.append(tempVal)\n",
    "            if m == 0:\n",
    "                m = len(priority) -1\n",
    "            else:\n",
    "                m -= 1\n",
    "            \n",
    "    print(count)"
   ]
  },
  {
   "cell_type": "code",
   "execution_count": 192,
   "metadata": {},
   "outputs": [
    {
     "name": "stdout",
     "output_type": "stream",
     "text": [
      "1\n"
     ]
    }
   ],
   "source": [
    "queueFunction(exampleM, examplePriority)"
   ]
  },
  {
   "cell_type": "markdown",
   "metadata": {},
   "source": [
    "# BAEKJOON - 키로거 5397번 문제"
   ]
  },
  {
   "cell_type": "code",
   "execution_count": 193,
   "metadata": {},
   "outputs": [],
   "source": [
    "exampleInput = '<<BP<A>>Cd-'"
   ]
  },
  {
   "cell_type": "code",
   "execution_count": 194,
   "metadata": {},
   "outputs": [
    {
     "ename": "SyntaxError",
     "evalue": "unexpected EOF while parsing (<ipython-input-194-b3b939a9711e>, line 2)",
     "output_type": "error",
     "traceback": [
      "\u001b[1;36m  File \u001b[1;32m\"<ipython-input-194-b3b939a9711e>\"\u001b[1;36m, line \u001b[1;32m2\u001b[0m\n\u001b[1;33m    \u001b[0m\n\u001b[1;37m    ^\u001b[0m\n\u001b[1;31mSyntaxError\u001b[0m\u001b[1;31m:\u001b[0m unexpected EOF while parsing\n"
     ]
    }
   ],
   "source": [
    "def keylogFunction(input):\n",
    "    "
   ]
  },
  {
   "cell_type": "code",
   "execution_count": null,
   "metadata": {},
   "outputs": [],
   "source": []
  }
 ],
 "metadata": {
  "kernelspec": {
   "display_name": "Python 3",
   "language": "python",
   "name": "python3"
  },
  "language_info": {
   "codemirror_mode": {
    "name": "ipython",
    "version": 3
   },
   "file_extension": ".py",
   "mimetype": "text/x-python",
   "name": "python",
   "nbconvert_exporter": "python",
   "pygments_lexer": "ipython3",
   "version": "3.7.9"
  }
 },
 "nbformat": 4,
 "nbformat_minor": 4
}
